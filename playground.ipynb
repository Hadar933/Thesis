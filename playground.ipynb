{
 "cells": [
  {
   "cell_type": "code",
   "execution_count": 2,
   "outputs": [
    {
     "data": {
      "text/plain": "<torch._C.Generator at 0x7f38a57023f0>"
     },
     "execution_count": 2,
     "metadata": {},
     "output_type": "execute_result"
    }
   ],
   "source": [
    "import random\n",
    "import torch\n",
    "import matplotlib.pyplot as plt\n",
    "import numpy as np\n",
    "from typing import Optional\n",
    "\n",
    "torch.manual_seed(42)"
   ],
   "metadata": {
    "collapsed": false,
    "ExecuteTime": {
     "end_time": "2024-01-21T17:00:22.800658731Z",
     "start_time": "2024-01-21T17:00:21.783012350Z"
    }
   },
   "id": "7833760f993423c4"
  },
  {
   "cell_type": "markdown",
   "source": [
    "## Various sine function"
   ],
   "metadata": {
    "collapsed": false
   },
   "id": "39f3dce4ce20fa9c"
  },
  {
   "cell_type": "code",
   "execution_count": 3,
   "outputs": [],
   "source": [
    "# a random complex tensor of size (3,2,4):\n",
    "x = torch.randn(3, 2, 4, dtype=torch.complex64)"
   ],
   "metadata": {
    "collapsed": false,
    "ExecuteTime": {
     "end_time": "2024-01-21T17:00:22.840235952Z",
     "start_time": "2024-01-21T17:00:22.793706471Z"
    }
   },
   "id": "46f4f658186081a0"
  },
  {
   "cell_type": "code",
   "execution_count": 4,
   "outputs": [],
   "source": [
    "T = 0.1024\n",
    "fs = 5000\n",
    "# meaning n_samples = T * fs = 0.1024 * 5000 = 512 (same as our windowed data)\n",
    "frequencies = [20, 90]  # Hz\n",
    "t = torch.arange(0, T, 1 / fs)\n",
    "L = len(t)"
   ],
   "metadata": {
    "collapsed": false,
    "ExecuteTime": {
     "end_time": "2024-01-21T17:00:22.841137361Z",
     "start_time": "2024-01-21T17:00:22.817529985Z"
    }
   },
   "id": "44910a6a3083d33b"
  },
  {
   "cell_type": "markdown",
   "source": [
    "#### sum of sines"
   ],
   "metadata": {
    "collapsed": false
   },
   "id": "2a243d838c6f3afd"
  },
  {
   "cell_type": "code",
   "outputs": [],
   "source": [
    "sine_wave = torch.zeros_like(t)\n",
    "for freq in frequencies:\n",
    "    sine_wave += torch.sin(2 * np.pi * freq * t)"
   ],
   "metadata": {
    "collapsed": false,
    "ExecuteTime": {
     "end_time": "2024-01-21T17:00:22.841888929Z",
     "start_time": "2024-01-21T17:00:22.821179664Z"
    }
   },
   "id": "96b3369fdef014f2",
   "execution_count": 5
  },
  {
   "cell_type": "markdown",
   "source": [
    "#### changing freq"
   ],
   "metadata": {
    "collapsed": false
   },
   "id": "48c17b3c9fe27e1d"
  },
  {
   "cell_type": "code",
   "outputs": [],
   "source": [
    "transition_point = int(0.5 * L)  # Number of samples before frequency transition\n",
    "changing_sine = torch.zeros_like(t)\n",
    "changing_sine[:transition_point] = torch.sin(2 * torch.pi * frequencies[0] * t[:transition_point])\n",
    "changing_sine[transition_point:] = torch.sin(2 * torch.pi * frequencies[-1] * t[transition_point:])"
   ],
   "metadata": {
    "collapsed": false,
    "ExecuteTime": {
     "end_time": "2024-01-21T17:00:22.879059598Z",
     "start_time": "2024-01-21T17:00:22.828094886Z"
    }
   },
   "id": "2ee480fea68ccf97",
   "execution_count": 6
  },
  {
   "cell_type": "markdown",
   "source": [
    "#### chirp"
   ],
   "metadata": {
    "collapsed": false
   },
   "id": "a868c5678621963f"
  },
  {
   "cell_type": "code",
   "outputs": [],
   "source": [
    "f0 = frequencies[0]  # starting frequency in Hz\n",
    "fn = frequencies[-1]  # ending frequency in Hz\n",
    "t = torch.linspace(0, T, int(T * fs), dtype=torch.float32)\n",
    "omega = 2 * torch.pi * (f0 + (fn - f0) * t / T)\n",
    "chirp = torch.sin(omega * t)"
   ],
   "metadata": {
    "collapsed": false,
    "ExecuteTime": {
     "end_time": "2024-01-21T17:00:22.879643372Z",
     "start_time": "2024-01-21T17:00:22.869492388Z"
    }
   },
   "id": "eace56e59b7dd3e",
   "execution_count": 7
  },
  {
   "cell_type": "code",
   "execution_count": 8,
   "outputs": [],
   "source": [
    "multifeature = torch.stack([sine_wave, changing_sine, chirp], dim=1)"
   ],
   "metadata": {
    "collapsed": false,
    "ExecuteTime": {
     "end_time": "2024-01-21T17:00:22.880019263Z",
     "start_time": "2024-01-21T17:00:22.869647722Z"
    }
   },
   "id": "97dabb93d18a8e91"
  },
  {
   "cell_type": "markdown",
   "source": [
    "#### real force data"
   ],
   "metadata": {
    "collapsed": false
   },
   "id": "c12fbbd2670b9ac5"
  },
  {
   "cell_type": "code",
   "outputs": [],
   "source": [
    "read_from = 'prssm'\n",
    "if read_from == 'prssm':\n",
    "    fs = 25\n",
    "    T = 256 / fs\n",
    "    try:\n",
    "        forces = torch.load(r'G:\\My Drive\\Master\\Lab\\Thesis\\Results\\10_10_2023\\forces_prssm.pt')\n",
    "    except FileNotFoundError:\n",
    "        forces = torch.load(r'/home/hadar/Thesis/Results/10_10_2023/forces_prssm.pt')\n",
    "else:\n",
    "    try:\n",
    "        forces = torch.load(r'G:\\My Drive\\Master\\Lab\\Thesis\\Results\\22_11_2023\\f19+f23_list_clean.pt')\n",
    "    except FileNotFoundError:\n",
    "        forces = torch.load(r'/home/hadar/Thesis/Results/22_11_2023/f19+f23_list_clean.pt')"
   ],
   "metadata": {
    "collapsed": false,
    "ExecuteTime": {
     "end_time": "2024-01-21T17:01:34.595277089Z",
     "start_time": "2024-01-21T17:01:34.529110236Z"
    }
   },
   "id": "f7b73f69e4fcdb67",
   "execution_count": 12
  },
  {
   "cell_type": "code",
   "outputs": [
    {
     "data": {
      "text/plain": "10"
     },
     "execution_count": 14,
     "metadata": {},
     "output_type": "execute_result"
    }
   ],
   "source": [],
   "metadata": {
    "collapsed": false,
    "ExecuteTime": {
     "end_time": "2024-01-21T17:01:47.939874118Z",
     "start_time": "2024-01-21T17:01:47.935472453Z"
    }
   },
   "id": "4372266ab135d605",
   "execution_count": 14
  },
  {
   "cell_type": "code",
   "outputs": [
    {
     "name": "stdout",
     "output_type": "stream",
     "text": [
      "dataset index: 241 (out of 547)\n",
      "window index: [151, 152,...,407] (size 256) within the dataset with indices [0,1,...,469] (size 470)\n"
     ]
    }
   ],
   "source": [
    "random_force_index = random.randint(0, len(forces) - 1)\n",
    "f_dataset = forces[random_force_index]\n",
    "window_size = int(T * fs)\n",
    "window_start = random.randint(0, len(f_dataset) - window_size)\n",
    "window_end = window_start + window_size\n",
    "window = f_dataset[window_start:window_end, :]\n",
    "f1, f2, f3, f4 = window[:, 0], window[:, 1], window[:, 2], window[:, 3]\n",
    "print('dataset index:', random_force_index, f'(out of {len(forces) - 1})')\n",
    "print(f'window index: [{window_start}, {window_start + 1},...,{window_end}] (size {window_size})',\n",
    "      f'within the dataset with indices [0,1,...,{len(f_dataset) - 1}] (size {len(f_dataset)})')\n"
   ],
   "metadata": {
    "collapsed": false,
    "ExecuteTime": {
     "end_time": "2024-01-21T17:01:55.186987231Z",
     "start_time": "2024-01-21T17:01:55.128795236Z"
    }
   },
   "id": "b66db9a94c4d10e5",
   "execution_count": 15
  },
  {
   "cell_type": "code",
   "execution_count": null,
   "outputs": [],
   "source": [
    "print(multifeature.shape)\n",
    "print(torch.fft.rfft(multifeature, axis=0).shape)\n",
    "print(torch.fft.rfftfreq(multifeature.shape[0], 1 / fs))"
   ],
   "metadata": {
    "collapsed": false,
    "ExecuteTime": {
     "start_time": "2024-01-21T17:00:22.917831324Z"
    }
   },
   "id": "86dd6609fbe8f51d"
  },
  {
   "cell_type": "code",
   "outputs": [],
   "source": [
    "class Dataset:\n",
    "    def __init__(self, data, name, fs):\n",
    "        self.name = name\n",
    "        self.fft = None\n",
    "        self.raw_fft = None\n",
    "        self.fftfreq = None\n",
    "        self.raw_fftfreq = None\n",
    "        self.stft = None\n",
    "        self.fs = fs\n",
    "        self.data = self._parse_data(data)\n",
    "\n",
    "    def __str__(self):\n",
    "        if self.name == 'sine':\n",
    "            return r'$f(t)=$' + '+'.join([rf'$sin(2\\pi\\cdot{f}t)$' for f in frequencies])\n",
    "        else:\n",
    "            return self.name\n",
    "\n",
    "    def _parse_data(self, data, window=False):\n",
    "        \"\"\"\n",
    "        the number of fft bins is nyquist = fs/2 = 2500. this means that len(data) points are spread across 2500 bins.\n",
    "        we want to have at least 2500 points, so we pad the data with zeros to reach that number.\n",
    "        but through experiments i can tell that this is still nout enough, so i double that number in the power of two.\n",
    "        \"\"\"\n",
    "        # return data\n",
    "        # data = torch.from_numpy(signal.savgol_filter(\n",
    "        #     x=data,\n",
    "        #     window_length=5,\n",
    "        #     polyorder=3\n",
    "        # ))\n",
    "        # if window:\n",
    "        #     data *= torch.hann_window(len(data))\n",
    "        # pad_size = self.fs // 2 - len(data)\n",
    "        # pad_size = 2 ** (int(np.ceil(np.log2(pad_size))) + 1)  # round pad_size to the nearest power of two for fast FFT\n",
    "        # data = F.pad(data, (0, pad_size), value=0)\n",
    "        return data\n",
    "\n",
    "    def calc_fft(self, shapes=True, freq_threshold: Optional[float] = None):\n",
    "        if freq_threshold is None:\n",
    "            freq_threshold = self.fs / 2  # Nyquist, which is the default x axis value anyway\n",
    "        fft = torch.fft.rfft(self.data)\n",
    "        freqs = torch.fft.rfftfreq(len(self.data), 1 / self.fs)\n",
    "        fft = fft[freqs <= freq_threshold]\n",
    "        freqs = freqs[freqs <= freq_threshold]\n",
    "        print(fft.shape)\n",
    "        print(freqs.shape)\n",
    "        self.fft = {'fft': fft, 'magnitude': fft.abs(), 'angle': fft.angle(), 'freqs': freqs}\n",
    "        if shapes:\n",
    "            print('FFT shape:', self.fft['fft'].shape)\n",
    "            print('Frequencies:', f\"[{freqs[0]}, {freqs[1]}, {freqs[2]}, ..., {freqs[-2]}, {freqs[-1]}]\")\n",
    "\n",
    "    def calc_stft(self, n_fft=200, hop_length=None, win_length=None, pad_mode='reflect', apply_abs=True, shapes=True):\n",
    "        if win_length is None:\n",
    "            win_length = n_fft\n",
    "        if hop_length is None:\n",
    "            hop_length = n_fft // 4\n",
    "        stft = torch.stft(\n",
    "            input=self.data,\n",
    "            n_fft=n_fft,\n",
    "            hop_length=hop_length,  #default n_fft/4\n",
    "            win_length=win_length,  #default n_fft\n",
    "            window=torch.hann_window(win_length),  # hann is a cosine window with ends that touch zero\n",
    "            center=False,\n",
    "            pad_mode=pad_mode,\n",
    "            normalized=False,  # not normalized\n",
    "            onesided=True,  # only return the positive frequencies\n",
    "            return_complex=True  # return complex numbers\n",
    "        )\n",
    "        if apply_abs:\n",
    "            stft = torch.abs(stft)\n",
    "        self.stft = stft\n",
    "        if shapes:\n",
    "            print(\"Spectrogram shape is (B?, N, T, C?), where:\")\n",
    "            print(f' - B --> None')\n",
    "            print(f' - N --> (n_fft//2)+1=({n_fft}//2)+1={(n_fft // 2) + 1}')\n",
    "            print(\n",
    "                f\" - T --> 1+(L-n_fft)//hop_length=1+({len(self.data)}-{n_fft})//{hop_length}={1 + (len(self.data) - n_fft) // hop_length}\")\n",
    "            print(f\" - C --> None\")\n",
    "            print(f'STFT shape: {stft.shape}')\n",
    "\n"
   ],
   "metadata": {
    "collapsed": false,
    "ExecuteTime": {
     "start_time": "2024-01-21T17:00:22.918003604Z"
    }
   },
   "id": "92a0e9c21c3e6cc5",
   "execution_count": null
  },
  {
   "cell_type": "code",
   "outputs": [],
   "source": [
    "dataset = Dataset(sine_wave, 'sine', fs=fs)\n",
    "dataset.calc_fft(freq_threshold=200)\n",
    "n_fft = int(0.25 * len(dataset.data))\n",
    "hop_length = n_fft // 32\n",
    "window_len = n_fft // 16\n",
    "dataset.calc_stft(n_fft=n_fft, hop_length=hop_length)"
   ],
   "metadata": {
    "collapsed": false,
    "ExecuteTime": {
     "start_time": "2024-01-21T17:00:22.918151768Z"
    }
   },
   "id": "f7eafcd9c2643e13",
   "execution_count": null
  },
  {
   "cell_type": "code",
   "execution_count": null,
   "outputs": [],
   "source": [
    "import matplotlib\n",
    "\n",
    "# matplotlib.use('TkAgg')\n",
    "plt.figure(figsize=(12, 10))\n",
    "\n",
    "# Subplot 1: Input signal\n",
    "plt.subplot(3, 1, 1)\n",
    "plt.scatter(torch.arange(len(dataset.data)), dataset.data, s=5, label='filtered data')\n",
    "plt.title(r'$f(t)$' + ' ,shape: ' + str(dataset.data.shape)), plt.xlabel('# Sample'), plt.ylabel('Amplitude')\n",
    "plt.grid(), plt.legend()\n",
    "\n",
    "# Subplot 2: FFT\n",
    "plt.subplot(3, 1, 2)\n",
    "plt.scatter(dataset.fft['freqs'], dataset.fft['magnitude'], s=10, label='FFT[filtered data]')\n",
    "plt.title(r'$|FFT[f(t)]|^+$' + ' ,shape: ' + str(dataset.fft['fft'].shape)), plt.xlabel('Frequency (Hz)'), plt.ylabel(\n",
    "    'Magnitude'), plt.grid()\n",
    "\n",
    "plt.subplot(3, 1, 3)\n",
    "complex_fft = dataset.fft['fft'].numpy()\n",
    "\n",
    "# Plot complex FFT values as lines\n",
    "plt.scatter(dataset.fft['fft'].real, dataset.fft['fft'].imag)\n",
    "plt.title('Complex FFT Plot' + ' ,shape: ' + str(complex_fft.shape)), plt.xlabel('Real Part'), plt.ylabel(\n",
    "    'Imaginary Part')\n",
    "plt.grid()\n",
    "\n",
    "# # Subplot 3: Spectrogram\n",
    "# plt.subplot(3, 1, 3)\n",
    "# stft_np = dataset.stft.numpy()\n",
    "# plt.imshow(stft_np, aspect='auto', cmap='viridis', origin='lower', extent=[0, stft_np.shape[1], 0, fs / 2])\n",
    "# plt.colorbar(label='Magnitude')\n",
    "# plt.title('Spectrogram' + ' ,shape: ' + str(dataset.stft.shape)), plt.xlabel('Time (s)'), plt.ylabel('Frequency (Hz)')\n",
    "# # plt.ylim(0, max(top_k_freqs) + 100)\n",
    "# # plt.ylim(0,30)\n",
    "plt.tight_layout()\n",
    "plt.show()\n",
    "\n"
   ],
   "metadata": {
    "collapsed": false,
    "ExecuteTime": {
     "start_time": "2024-01-21T17:00:22.918404913Z"
    }
   },
   "id": "5b7566239265692e"
  },
  {
   "cell_type": "markdown",
   "source": [
    "## Test FFT with low pass filter + padding to IFFT"
   ],
   "metadata": {
    "collapsed": false
   },
   "id": "4f8dbea79fc33e68"
  },
  {
   "cell_type": "code",
   "execution_count": null,
   "outputs": [],
   "source": [
    "print('Original shape: ', multifeature.shape)\n",
    "regular_fft = torch.fft.rfft(multifeature, dim=0)\n",
    "print('Regular FFT shape: ', regular_fft.shape)\n",
    "regular_ifft = torch.fft.irfft(regular_fft, dim=0)\n",
    "print('Regular IFFT shape: ', regular_ifft.shape)\n",
    "print('=' * 50)\n",
    "filtered_fft = regular_fft[:10, :]  # 50 is the number of frequencies we want to keep\n",
    "print('Filtered FFT shape: ', filtered_fft.shape)\n",
    "padded_filtered_fft = torch.nn.functional.pad(filtered_fft, (0, 0, 0, (len(multifeature) // 2 + 1) - len(filtered_fft)))\n",
    "print('Zero Padded Filtered FFT shape: ', padded_filtered_fft.shape)\n",
    "padded_filtered_ifft = torch.fft.irfft(padded_filtered_fft, dim=0)\n",
    "print('IFFT shape: ', padded_filtered_ifft.shape)"
   ],
   "metadata": {
    "collapsed": false,
    "ExecuteTime": {
     "end_time": "2024-01-21T17:00:22.919397696Z",
     "start_time": "2024-01-21T17:00:22.918580080Z"
    }
   },
   "id": "cf2a7c8cfec0e63f"
  },
  {
   "cell_type": "code",
   "execution_count": null,
   "outputs": [],
   "source": [
    "# two plots, one for the regular ifft and one for the ifft on the padded data:\n",
    "plt.figure(figsize=(12, 10))\n",
    "plt.plot(multifeature[:, 0].numpy(), label='original (feature 0)', color='red')\n",
    "# plt.plot(multifeature[:,1].numpy(),label='original (feature 1)',color='green')\n",
    "# plt.plot(multifeature[:,2].numpy(),label='original (feature 2)',color='blue')\n",
    "# lighter colors:\n",
    "\n",
    "plt.plot(regular_ifft[:, 0].numpy(), label='regular ifft (feature 0)', color='red', linestyle='--', alpha=0.5)\n",
    "# plt.plot(regular_ifft[:,1].numpy(),label='regular ifft (feature 1)',color='green', linestyle='--',alpha=0.5)\n",
    "# plt.plot(regular_ifft[:,2].numpy(),label='regular ifft (feature 2)',color='blue', linestyle='--',alpha=0.5)\n",
    "\n",
    "plt.plot(padded_filtered_ifft[:, 0].numpy(), label='padded ifft (feature 0)', linestyle=':', color='red', alpha=0.2)\n",
    "# plt.plot(padded_filtered_ifft[:,1].numpy(),label='padded ifft (feature 1)', linestyle=':',color='green',alpha=0.2)\n",
    "# plt.plot(padded_filtered_ifft[:,2].numpy(),label='padded ifft (feature 2)',\tlinestyle=':',color='blue',alpha=0.2)\n",
    "plt.legend()\n",
    "plt.show()\n"
   ],
   "metadata": {
    "collapsed": false,
    "ExecuteTime": {
     "start_time": "2024-01-21T17:00:22.918654439Z"
    }
   },
   "id": "86144b1b802b5da"
  },
  {
   "cell_type": "markdown",
   "source": [
    "## Sin + Cos encoding"
   ],
   "metadata": {
    "collapsed": false
   },
   "id": "2071517181e8de50"
  },
  {
   "cell_type": "code",
   "outputs": [],
   "source": [
    "def sin_encoding(data):\n",
    "    return torch.sin(2 * np.pi * data / (2*np.pi))\n",
    "\n",
    "\n",
    "def cos_encoding(data):\n",
    "    return torch.cos(2 * np.pi * data / (2*np.pi))"
   ],
   "metadata": {
    "collapsed": false,
    "ExecuteTime": {
     "end_time": "2024-01-22T17:01:28.436021465Z",
     "start_time": "2024-01-22T17:01:28.389793102Z"
    }
   },
   "id": "b8bc233cd5420344",
   "execution_count": 37
  },
  {
   "cell_type": "code",
   "outputs": [],
   "source": [
    "hours_of_the_week = torch.tensor([i for i in range(24)] * 7)\n",
    "_sin = sin_encoding(hours_of_the_week)\n",
    "_cos = cos_encoding(hours_of_the_week)"
   ],
   "metadata": {
    "collapsed": false,
    "ExecuteTime": {
     "end_time": "2024-01-22T16:59:14.227957410Z",
     "start_time": "2024-01-22T16:59:14.220875940Z"
    }
   },
   "id": "7065a5ce2bb5fdfa",
   "execution_count": 30
  },
  {
   "cell_type": "code",
   "outputs": [
    {
     "data": {
      "text/plain": "<Figure size 640x480 with 2 Axes>",
      "image/png": "[encoded data removed]"
     },
     "metadata": {},
     "output_type": "display_data"
    }
   ],
   "source": [
    "plt.subplot(2, 1, 1)\n",
    "plt.plot(hours_of_the_week,label='hours of the week')\n",
    "plt.subplot(2, 1, 2)\n",
    "plt.scatter(_sin,_cos,label='sin-cos encoding')\n",
    "# square plot:\n",
    "\n",
    "plt.gca().set_aspect('equal', adjustable='box')\n",
    "plt.show()"
   ],
   "metadata": {
    "collapsed": false,
    "ExecuteTime": {
     "end_time": "2024-01-22T17:03:19.214842693Z",
     "start_time": "2024-01-22T17:03:19.088286585Z"
    }
   },
   "id": "3b50c25dd2f5b051",
   "execution_count": 41
  },
  {
   "cell_type": "code",
   "outputs": [],
   "source": [
    "random_angles_in_radians = torch.rand(1000) * 2 * np.pi\n",
    "_sin = sin_encoding(random_angles_in_radians)\n",
    "_cos = cos_encoding(random_angles_in_radians)"
   ],
   "metadata": {
    "collapsed": false,
    "ExecuteTime": {
     "end_time": "2024-01-22T17:01:32.694202688Z",
     "start_time": "2024-01-22T17:01:32.687656826Z"
    }
   },
   "id": "3bba5de78534851e",
   "execution_count": 38
  },
  {
   "cell_type": "code",
   "outputs": [
    {
     "data": {
      "text/plain": "<Figure size 640x480 with 2 Axes>",
      "image/png": "[encoded data removed]"
     },
     "metadata": {},
     "output_type": "display_data"
    }
   ],
   "source": [
    "plt.subplot(2, 1, 1)\n",
    "plt.plot(random_angles_in_radians,label='random angles in radians')\n",
    "plt.subplot(2, 1, 2)\n",
    "plt.scatter(_sin,_cos,label='sin-cos encoding')\n",
    "plt.show()"
   ],
   "metadata": {
    "collapsed": false,
    "ExecuteTime": {
     "end_time": "2024-01-22T17:01:33.527784717Z",
     "start_time": "2024-01-22T17:01:33.396124762Z"
    }
   },
   "id": "71d6d2606e5bd2fe",
   "execution_count": 39
  }
 ],
 "metadata": {
  "kernelspec": {
   "display_name": "Python 3",
   "language": "python",
   "name": "python3"
  },
  "language_info": {
   "codemirror_mode": {
    "name": "ipython",
    "version": 2
   },
   "file_extension": ".py",
   "mimetype": "text/x-python",
   "name": "python",
   "nbconvert_exporter": "python",
   "pygments_lexer": "ipython2",
   "version": "2.7.6"
  }
 },
 "nbformat": 4,
 "nbformat_minor": 5
}
