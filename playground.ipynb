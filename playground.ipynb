{
 "cells": [
  {
   "cell_type": "code",
   "execution_count": 23,
   "outputs": [
    {
     "data": {
      "text/plain": "<torch._C.Generator at 0x21b9e72b450>"
     },
     "execution_count": 23,
     "metadata": {},
     "output_type": "execute_result"
    }
   ],
   "source": [
    "import random\n",
    "import torch\n",
    "import matplotlib.pyplot as plt\n",
    "import numpy as np\n",
    "from scipy import signal\n",
    "import torch.nn.functional as F\n",
    "\n",
    "torch.manual_seed(42)"
   ],
   "metadata": {
    "collapsed": false,
    "ExecuteTime": {
     "end_time": "2024-01-18T09:44:28.730425500Z",
     "start_time": "2024-01-18T09:44:28.379330300Z"
    }
   },
   "id": "7833760f993423c4"
  },
  {
   "cell_type": "markdown",
   "source": [
    "## Various sine function"
   ],
   "metadata": {
    "collapsed": false
   },
   "id": "39f3dce4ce20fa9c"
  },
  {
   "cell_type": "code",
   "execution_count": 25,
   "outputs": [],
   "source": [
    "T = 0.1024\n",
    "fs = 5000\n",
    "# meaning n_samples = T * fs = 0.1024 * 5000 = 512 (same as our windowed data)\n",
    "frequencies = [20, 90]  # Hz\n",
    "t = torch.arange(0, T, 1 / fs)\n",
    "L = len(t)"
   ],
   "metadata": {
    "collapsed": false,
    "ExecuteTime": {
     "end_time": "2024-01-18T09:44:28.751587300Z",
     "start_time": "2024-01-18T09:44:28.667795700Z"
    }
   },
   "id": "44910a6a3083d33b"
  },
  {
   "cell_type": "markdown",
   "source": [
    "#### sum of sines"
   ],
   "metadata": {
    "collapsed": false
   },
   "id": "2a243d838c6f3afd"
  },
  {
   "cell_type": "code",
   "outputs": [],
   "source": [
    "sine_wave = torch.zeros_like(t)\n",
    "for freq in frequencies:\n",
    "\tsine_wave += torch.sin(2 * np.pi * freq * t)"
   ],
   "metadata": {
    "collapsed": false,
    "ExecuteTime": {
     "end_time": "2024-01-18T09:44:28.751587300Z",
     "start_time": "2024-01-18T09:44:28.630570400Z"
    }
   },
   "id": "96b3369fdef014f2",
   "execution_count": 24
  },
  {
   "cell_type": "markdown",
   "source": [
    "#### changing freq"
   ],
   "metadata": {
    "collapsed": false
   },
   "id": "48c17b3c9fe27e1d"
  },
  {
   "cell_type": "code",
   "outputs": [],
   "source": [
    "transition_point = int(0.5 * L)  # Number of samples before frequency transition\n",
    "changing_sine = torch.zeros_like(t)\n",
    "changing_sine[:transition_point] = torch.sin(2 * torch.pi * frequencies[0] * t[:transition_point])\n",
    "changing_sine[transition_point:] = torch.sin(2 * torch.pi * frequencies[-1] * t[transition_point:])"
   ],
   "metadata": {
    "collapsed": false,
    "ExecuteTime": {
     "end_time": "2024-01-18T09:44:28.752754400Z",
     "start_time": "2024-01-18T09:44:28.684151800Z"
    }
   },
   "id": "2ee480fea68ccf97",
   "execution_count": 26
  },
  {
   "cell_type": "markdown",
   "source": [
    "#### chirp"
   ],
   "metadata": {
    "collapsed": false
   },
   "id": "a868c5678621963f"
  },
  {
   "cell_type": "code",
   "outputs": [],
   "source": [
    "f0 = frequencies[0]  # starting frequency in Hz\n",
    "fn = frequencies[-1]  # ending frequency in Hz\n",
    "t = torch.linspace(0, T, int(T * fs), dtype=torch.float32)\n",
    "omega = 2 * torch.pi * (f0 + (fn - f0) * t / T)\n",
    "chirp = torch.sin(omega * t)"
   ],
   "metadata": {
    "collapsed": false,
    "ExecuteTime": {
     "end_time": "2024-01-18T09:44:28.752754400Z",
     "start_time": "2024-01-18T09:44:28.704487300Z"
    }
   },
   "id": "eace56e59b7dd3e",
   "execution_count": 27
  },
  {
   "cell_type": "markdown",
   "source": [
    "#### real force data"
   ],
   "metadata": {
    "collapsed": false
   },
   "id": "c12fbbd2670b9ac5"
  },
  {
   "cell_type": "code",
   "outputs": [],
   "source": [
    "forces = torch.load(r'G:\\My Drive\\Master\\Lab\\Thesis\\Results\\22_11_2023\\f19+f23_list_clean.pt')"
   ],
   "metadata": {
    "collapsed": false,
    "ExecuteTime": {
     "end_time": "2024-01-18T09:44:28.993371600Z",
     "start_time": "2024-01-18T09:44:28.717411300Z"
    }
   },
   "id": "f7b73f69e4fcdb67",
   "execution_count": 28
  },
  {
   "cell_type": "code",
   "outputs": [
    {
     "name": "stdout",
     "output_type": "stream",
     "text": [
      "dataset index: 44 (out of 152)\n",
      "window index: [1913, 1914,...,2425] (size 512) within the dataset with indices [0,1,...,3268] (size 3269)\n"
     ]
    }
   ],
   "source": [
    "random_force_index = random.randint(0, len(forces) - 1)\n",
    "f_dataset = forces[random_force_index]\n",
    "window_size = int(T * fs)\n",
    "window_start = random.randint(0, len(f_dataset) - window_size)\n",
    "window_end = window_start + window_size\n",
    "window = f_dataset[window_start:window_end, :]\n",
    "f1, f2, f3, f4 = window[:, 0], window[:, 1], window[:, 2], window[:, 3]\n",
    "print('dataset index:', random_force_index, f'(out of {len(forces) - 1})')\n",
    "print(f'window index: [{window_start}, {window_start + 1},...,{window_end}] (size {window_size})',\n",
    "\t  f'within the dataset with indices [0,1,...,{len(f_dataset) - 1}] (size {len(f_dataset)})')\n"
   ],
   "metadata": {
    "collapsed": false,
    "ExecuteTime": {
     "end_time": "2024-01-18T09:44:28.993371600Z",
     "start_time": "2024-01-18T09:44:28.973740900Z"
    }
   },
   "id": "b66db9a94c4d10e5",
   "execution_count": 29
  },
  {
   "cell_type": "code",
   "outputs": [],
   "source": [
    "class Dataset:\n",
    "\tdef __init__(self, data, name, fs):\n",
    "\t\tself.name = name\n",
    "\t\tself.raw_data = data\n",
    "\t\tself.fft = None\n",
    "\t\tself.raw_fft = None\n",
    "\t\tself.fftfreq = None\n",
    "\t\tself.raw_fftfreq=None\n",
    "\t\tself.stft = None\n",
    "\t\tself.fs = fs\n",
    "\t\tself.data = self._parse_data(data)\n",
    "\n",
    "\tdef __str__(self):\n",
    "\t\tif self.name == 'sine':\n",
    "\t\t\treturn r'$f(t)=$' + '+'.join([rf'$sin(2\\pi\\cdot{f}t)$' for f in frequencies])\n",
    "\t\telse:\n",
    "\t\t\treturn self.name\n",
    "\n",
    "\tdef _parse_data(self, data):\n",
    "\t\tdata = torch.from_numpy(signal.savgol_filter(\n",
    "\t\t\tx=data,\n",
    "\t\t\twindow_length=5,\n",
    "\t\t\tpolyorder=3\n",
    "\t\t))\n",
    "\t\t\"\"\"\n",
    "\t\tthe number of fft bins is nyquist = fs/2 = 2500. this means that len(data) points are spread across 2500 bins.\n",
    "\t\twe want to have at least 2500 points, so we pad the data with zeros to reach that number.\n",
    "\t\tbut through experiments i can tell that this is still nout enough, so i double that number in the power of two.\n",
    "\t\t\"\"\"\n",
    "\t\t# data = data * torch.hann_window(len(data))\n",
    "\t\tpadding_size = self.fs // 2 - len(data)\n",
    "\t\t# round padding_size to the nearest power of two for fast FFT:\n",
    "\t\tpadding_size = 2 ** (int(np.ceil(np.log2(padding_size))) + 1)\n",
    "\t\tdata = F.pad(data, (0, padding_size), mode='constant', value=0)\n",
    "\t\t# data = data * torch.hann_window(len(data))\n",
    "\t\treturn data\n",
    "\n",
    "\tdef calc_fft(self, apply_abs=True, trim_negative=True, shapes=True):\n",
    "\t\tfor i, data in enumerate([self.data, self.raw_data]):\n",
    "\t\t\tfft = torch.fft.fft(data)\n",
    "\t\t\tfreqs = torch.fft.fftfreq(len(data), 1 / self.fs)\n",
    "\t\t\tif trim_negative:\n",
    "\t\t\t\tfreqs_mask = freqs >= 0\n",
    "\t\t\t\tfreqs = freqs[freqs_mask]\n",
    "\t\t\t\tfft = fft[freqs_mask]\n",
    "\t\t\tif apply_abs:\n",
    "\t\t\t\tfft = torch.abs(fft)\n",
    "\t\t\tif i == 0:\n",
    "\t\t\t\tself.fft = fft\n",
    "\t\t\t\tself.fftfreq = freqs\n",
    "\t\t\telif i == 1:\n",
    "\t\t\t\tself.raw_fft = fft\n",
    "\t\t\t\tself.raw_fftfreq=freqs\n",
    "\t\t\tif shapes:\n",
    "\t\t\t\tprint(fft.shape)\n",
    "\n",
    "\tdef calc_stft(self, n_fft=200, hop_length=None, win_length=None, pad_mode='reflect', apply_abs=True, shapes=True):\n",
    "\t\tif win_length is None:\n",
    "\t\t\twin_length = n_fft\n",
    "\t\tif hop_length is None:\n",
    "\t\t\thop_length = n_fft // 4\n",
    "\t\tstft = torch.stft(\n",
    "\t\t\tinput=self.data,\n",
    "\t\t\tn_fft=n_fft,\n",
    "\t\t\thop_length=hop_length,  #default n_fft/4\n",
    "\t\t\twin_length=win_length,  #default n_fft\n",
    "\t\t\twindow=torch.hann_window(win_length),  # hann is a cosine window with ends that touch zero\n",
    "\t\t\tcenter=False,\n",
    "\t\t\tpad_mode=pad_mode,\n",
    "\t\t\tnormalized=False,  # not normalized\n",
    "\t\t\tonesided=True,  # only return the positive frequencies\n",
    "\t\t\treturn_complex=True  # return complex numbers\n",
    "\t\t)\n",
    "\t\tif apply_abs:\n",
    "\t\t\tstft = torch.abs(stft)\n",
    "\t\tself.stft = stft\n",
    "\t\tif shapes:\n",
    "\t\t\tprint(\"Spectrogram shape is (B?, N, T, C?), where:\")\n",
    "\t\t\tprint(f' - B --> None')\n",
    "\t\t\tprint(f' - N --> (n_fft//2)+1=({n_fft}//2)+1={(n_fft // 2) + 1}')\n",
    "\t\t\tprint(\n",
    "\t\t\t\tf\" - T --> 1+(L-n_fft)//hop_length=1+({len(self.data)}-{n_fft})//{hop_length}={1 + (len(self.data) - n_fft) // hop_length}\")\n",
    "\t\t\tprint(f\" - C --> None\")\n",
    "\t\t\tprint(f'STFT shape: {stft.shape}')\n",
    "\n"
   ],
   "metadata": {
    "collapsed": false,
    "ExecuteTime": {
     "end_time": "2024-01-18T09:44:29.024886100Z",
     "start_time": "2024-01-18T09:44:29.000379900Z"
    }
   },
   "id": "92a0e9c21c3e6cc5",
   "execution_count": 30
  },
  {
   "cell_type": "code",
   "outputs": [
    {
     "name": "stdout",
     "output_type": "stream",
     "text": [
      "torch.Size([2304])\n",
      "torch.Size([256])\n",
      "Spectrogram shape is (B?, N, T, C?), where:\n",
      " - B --> None\n",
      " - N --> (n_fft//2)+1=(1152//2)+1=577\n",
      " - T --> 1+(L-n_fft)//hop_length=1+(4608-1152)//36=97\n",
      " - C --> None\n",
      "STFT shape: torch.Size([577, 97])\n"
     ]
    }
   ],
   "source": [
    "dataset = Dataset(f4, 'f4', fs=fs)\n",
    "dataset.calc_fft()\n",
    "n_fft = int(0.25 * len(dataset.data))\n",
    "hop_length = n_fft // 32\n",
    "window_len = n_fft // 16\n",
    "dataset.calc_stft(n_fft=n_fft, hop_length=hop_length)"
   ],
   "metadata": {
    "collapsed": false,
    "ExecuteTime": {
     "end_time": "2024-01-18T09:44:29.104298300Z",
     "start_time": "2024-01-18T09:44:29.024886100Z"
    }
   },
   "id": "f7eafcd9c2643e13",
   "execution_count": 31
  },
  {
   "cell_type": "code",
   "outputs": [],
   "source": [
    "k = 2\n",
    "sorted_fft = torch.sort(dataset.fft, descending=True)\n",
    "top_k_freqs = dataset.fftfreq[sorted_fft.indices[:k]]"
   ],
   "metadata": {
    "collapsed": false,
    "ExecuteTime": {
     "end_time": "2024-01-18T09:44:29.104298300Z",
     "start_time": "2024-01-18T09:44:29.041302500Z"
    }
   },
   "id": "47047872fceb0591",
   "execution_count": 32
  },
  {
   "cell_type": "code",
   "execution_count": null,
   "outputs": [],
   "source": [
    "import matplotlib\n",
    "\n",
    "matplotlib.use('TkAgg')\n",
    "plt.figure(figsize=(12, 10))\n",
    "\n",
    "# Subplot 1: Input signal\n",
    "plt.subplot(3, 1, 1)\n",
    "plt.scatter(torch.arange(len(dataset.data)), dataset.data, s=5, label='filtered data')\n",
    "plt.scatter(torch.arange(len(dataset.raw_data)), dataset.raw_data, s=5, label='raw data')\n",
    "plt.title(r'$f(t)$' + ' ,shape: ' + str(dataset.data.shape)), plt.xlabel('# Sample'), plt.ylabel('Amplitude')\n",
    "plt.grid(), plt.legend()\n",
    "\n",
    "# Subplot 2: FFT\n",
    "plt.subplot(3, 1, 2)\n",
    "plt.scatter(dataset.fftfreq, dataset.fft, s=10, label='FFT[filtered data]')\n",
    "plt.scatter(dataset.raw_fftfreq, dataset.raw_fft, s=10, label='FFT[raw data]')\n",
    "plt.title(r'$|FFT[f(t)]|^+$' + ' ,shape: ' + str(dataset.fft.shape)), plt.xlabel('Frequency (Hz)'), plt.ylabel(\n",
    "\t'Magnitude'), plt.grid()\n",
    "# ax1 = plt.gca()\n",
    "# ax2= ax1.secondary_xaxis('top')\n",
    "\n",
    "for i, f in enumerate(top_k_freqs):\n",
    "\tplt.vlines(x=f, ymin=0, ymax=max(dataset.fft), color='black', linestyle='-.',\n",
    "\t\t\t   label=rf'$f_{i}={f:.3f}$ Hz')\n",
    "# plt.xlim(0, 200)\n",
    "plt.legend()\n",
    "\n",
    "# Subplot 3: Spectrogram\n",
    "plt.subplot(3, 1, 3)\n",
    "stft_np = dataset.stft.numpy()\n",
    "plt.imshow(stft_np, aspect='auto', cmap='viridis', origin='lower', extent=[0, stft_np.shape[1], 0, fs / 2])\n",
    "plt.colorbar(label='Magnitude')\n",
    "plt.title('Spectrogram' + ' ,shape: ' + str(dataset.stft.shape)), plt.xlabel('Time (s)'), plt.ylabel('Frequency (Hz)')\n",
    "# plt.ylim(0, max(top_k_freqs) + 100)\n",
    "# plt.ylim(0,30)\n",
    "plt.tight_layout()\n",
    "plt.show()\n",
    "\n"
   ],
   "metadata": {
    "collapsed": false,
    "is_executing": true,
    "ExecuteTime": {
     "start_time": "2024-01-18T09:44:29.058110300Z"
    }
   },
   "id": "5b7566239265692e"
  }
 ],
 "metadata": {
  "kernelspec": {
   "display_name": "Python 3",
   "language": "python",
   "name": "python3"
  },
  "language_info": {
   "codemirror_mode": {
    "name": "ipython",
    "version": 2
   },
   "file_extension": ".py",
   "mimetype": "text/x-python",
   "name": "python",
   "nbconvert_exporter": "python",
   "pygments_lexer": "ipython2",
   "version": "2.7.6"
  }
 },
 "nbformat": 4,
 "nbformat_minor": 5
}
