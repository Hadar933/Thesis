{
 "cells": [
  {
   "cell_type": "code",
   "execution_count": 136,
   "outputs": [
    {
     "data": {
      "text/plain": "<torch._C.Generator at 0x21b9e72b450>"
     },
     "execution_count": 136,
     "metadata": {},
     "output_type": "execute_result"
    }
   ],
   "source": [
    "import random\n",
    "import torch\n",
    "import matplotlib.pyplot as plt\n",
    "import numpy as np\n",
    "from scipy import signal\n",
    "import torch.nn.functional as F\n",
    "from typing import Optional\n",
    "\n",
    "torch.manual_seed(42)"
   ],
   "metadata": {
    "collapsed": false,
    "ExecuteTime": {
     "end_time": "2024-01-20T18:55:44.815135Z",
     "start_time": "2024-01-20T18:55:44.516114700Z"
    }
   },
   "id": "7833760f993423c4"
  },
  {
   "cell_type": "markdown",
   "source": [
    "## Various sine function"
   ],
   "metadata": {
    "collapsed": false
   },
   "id": "39f3dce4ce20fa9c"
  },
  {
   "cell_type": "code",
   "execution_count": 135,
   "outputs": [],
   "source": [
    "# a random complex tensor of size (3,2,4):\n",
    "x = torch.randn(3, 2, 4, dtype=torch.complex64)"
   ],
   "metadata": {
    "collapsed": false,
    "ExecuteTime": {
     "end_time": "2024-01-20T18:55:44.708251400Z",
     "start_time": "2024-01-20T18:55:44.453040900Z"
    }
   },
   "id": "46f4f658186081a0"
  },
  {
   "cell_type": "code",
   "execution_count": 137,
   "outputs": [],
   "source": [
    "T = 0.1024\n",
    "fs = 5000\n",
    "# meaning n_samples = T * fs = 0.1024 * 5000 = 512 (same as our windowed data)\n",
    "frequencies = [20, 90]  # Hz\n",
    "t = torch.arange(0, T, 1 / fs)\n",
    "L = len(t)"
   ],
   "metadata": {
    "collapsed": false,
    "ExecuteTime": {
     "end_time": "2024-01-20T18:55:44.815135Z",
     "start_time": "2024-01-20T18:55:44.573313100Z"
    }
   },
   "id": "44910a6a3083d33b"
  },
  {
   "cell_type": "markdown",
   "source": [
    "#### sum of sines"
   ],
   "metadata": {
    "collapsed": false
   },
   "id": "2a243d838c6f3afd"
  },
  {
   "cell_type": "code",
   "outputs": [],
   "source": [
    "sine_wave = torch.zeros_like(t)\n",
    "for freq in frequencies:\n",
    "\tsine_wave += torch.sin(2 * np.pi * freq * t)"
   ],
   "metadata": {
    "collapsed": false,
    "ExecuteTime": {
     "end_time": "2024-01-20T18:55:44.815135Z",
     "start_time": "2024-01-20T18:55:44.657690100Z"
    }
   },
   "id": "96b3369fdef014f2",
   "execution_count": 139
  },
  {
   "cell_type": "markdown",
   "source": [
    "#### changing freq"
   ],
   "metadata": {
    "collapsed": false
   },
   "id": "48c17b3c9fe27e1d"
  },
  {
   "cell_type": "code",
   "outputs": [],
   "source": [
    "transition_point = int(0.5 * L)  # Number of samples before frequency transition\n",
    "changing_sine = torch.zeros_like(t)\n",
    "changing_sine[:transition_point] = torch.sin(2 * torch.pi * frequencies[0] * t[:transition_point])\n",
    "changing_sine[transition_point:] = torch.sin(2 * torch.pi * frequencies[-1] * t[transition_point:])"
   ],
   "metadata": {
    "collapsed": false,
    "ExecuteTime": {
     "end_time": "2024-01-20T18:55:44.815135Z",
     "start_time": "2024-01-20T18:55:44.594799200Z"
    }
   },
   "id": "2ee480fea68ccf97",
   "execution_count": 138
  },
  {
   "cell_type": "markdown",
   "source": [
    "#### chirp"
   ],
   "metadata": {
    "collapsed": false
   },
   "id": "a868c5678621963f"
  },
  {
   "cell_type": "code",
   "outputs": [],
   "source": [
    "f0 = frequencies[0]  # starting frequency in Hz\n",
    "fn = frequencies[-1]  # ending frequency in Hz\n",
    "t = torch.linspace(0, T, int(T * fs), dtype=torch.float32)\n",
    "omega = 2 * torch.pi * (f0 + (fn - f0) * t / T)\n",
    "chirp = torch.sin(omega * t)"
   ],
   "metadata": {
    "collapsed": false,
    "ExecuteTime": {
     "end_time": "2024-01-20T18:55:44.815135Z",
     "start_time": "2024-01-20T18:55:44.680264100Z"
    }
   },
   "id": "eace56e59b7dd3e",
   "execution_count": 140
  },
  {
   "cell_type": "code",
   "execution_count": 141,
   "outputs": [],
   "source": [
    "multifeature = torch.stack([sine_wave, changing_sine, chirp], dim=1)"
   ],
   "metadata": {
    "collapsed": false,
    "ExecuteTime": {
     "end_time": "2024-01-20T18:55:44.924888900Z",
     "start_time": "2024-01-20T18:55:44.708251400Z"
    }
   },
   "id": "97dabb93d18a8e91"
  },
  {
   "cell_type": "markdown",
   "source": [
    "#### real force data"
   ],
   "metadata": {
    "collapsed": false
   },
   "id": "c12fbbd2670b9ac5"
  },
  {
   "cell_type": "code",
   "outputs": [],
   "source": [
    "try:\n",
    "\tforces = torch.load(r'G:\\My Drive\\Master\\Lab\\Thesis\\Results\\22_11_2023\\f19+f23_list_clean.pt')\n",
    "except FileNotFoundError:\n",
    "\tforces = torch.load(r'/home/hadar/Thesis/Results/22_11_2023/f19+f23_list_clean.pt')"
   ],
   "metadata": {
    "collapsed": false,
    "ExecuteTime": {
     "end_time": "2024-01-20T18:55:45.199193800Z",
     "start_time": "2024-01-20T18:55:44.739227600Z"
    }
   },
   "id": "f7b73f69e4fcdb67",
   "execution_count": 142
  },
  {
   "cell_type": "code",
   "outputs": [
    {
     "name": "stdout",
     "output_type": "stream",
     "text": [
      "dataset index: 72 (out of 152)\n",
      "window index: [116, 117,...,628] (size 512) within the dataset with indices [0,1,...,3259] (size 3260)\n"
     ]
    }
   ],
   "source": [
    "random_force_index = random.randint(0, len(forces) - 1)\n",
    "f_dataset = forces[random_force_index]\n",
    "window_size = int(T * fs)\n",
    "window_start = random.randint(0, len(f_dataset) - window_size)\n",
    "window_end = window_start + window_size\n",
    "window = f_dataset[window_start:window_end, :]\n",
    "f1, f2, f3, f4 = window[:, 0], window[:, 1], window[:, 2], window[:, 3]\n",
    "print('dataset index:', random_force_index, f'(out of {len(forces) - 1})')\n",
    "print(f'window index: [{window_start}, {window_start + 1},...,{window_end}] (size {window_size})',\n",
    "\t  f'within the dataset with indices [0,1,...,{len(f_dataset) - 1}] (size {len(f_dataset)})')\n"
   ],
   "metadata": {
    "collapsed": false,
    "ExecuteTime": {
     "end_time": "2024-01-20T18:55:45.210932600Z",
     "start_time": "2024-01-20T18:55:45.203704700Z"
    }
   },
   "id": "b66db9a94c4d10e5",
   "execution_count": 143
  },
  {
   "cell_type": "code",
   "execution_count": 144,
   "outputs": [
    {
     "name": "stdout",
     "output_type": "stream",
     "text": [
      "torch.Size([512, 3])\n",
      "torch.Size([257, 3])\n",
      "tensor([   0.0000,    9.7656,   19.5312,   29.2969,   39.0625,   48.8281,\n",
      "          58.5938,   68.3594,   78.1250,   87.8906,   97.6562,  107.4219,\n",
      "         117.1875,  126.9531,  136.7188,  146.4844,  156.2500,  166.0156,\n",
      "         175.7812,  185.5469,  195.3125,  205.0781,  214.8438,  224.6094,\n",
      "         234.3750,  244.1406,  253.9062,  263.6719,  273.4375,  283.2031,\n",
      "         292.9688,  302.7344,  312.5000,  322.2656,  332.0312,  341.7969,\n",
      "         351.5625,  361.3281,  371.0938,  380.8594,  390.6250,  400.3906,\n",
      "         410.1562,  419.9219,  429.6875,  439.4531,  449.2188,  458.9844,\n",
      "         468.7500,  478.5156,  488.2812,  498.0469,  507.8125,  517.5781,\n",
      "         527.3438,  537.1094,  546.8750,  556.6406,  566.4062,  576.1719,\n",
      "         585.9375,  595.7031,  605.4688,  615.2344,  625.0000,  634.7656,\n",
      "         644.5312,  654.2969,  664.0625,  673.8281,  683.5938,  693.3594,\n",
      "         703.1250,  712.8906,  722.6562,  732.4219,  742.1875,  751.9531,\n",
      "         761.7188,  771.4844,  781.2500,  791.0156,  800.7812,  810.5469,\n",
      "         820.3125,  830.0781,  839.8438,  849.6094,  859.3750,  869.1406,\n",
      "         878.9062,  888.6719,  898.4375,  908.2031,  917.9688,  927.7344,\n",
      "         937.5000,  947.2656,  957.0312,  966.7969,  976.5625,  986.3281,\n",
      "         996.0938, 1005.8594, 1015.6250, 1025.3906, 1035.1562, 1044.9219,\n",
      "        1054.6875, 1064.4531, 1074.2188, 1083.9844, 1093.7500, 1103.5156,\n",
      "        1113.2812, 1123.0469, 1132.8125, 1142.5781, 1152.3438, 1162.1094,\n",
      "        1171.8750, 1181.6406, 1191.4062, 1201.1719, 1210.9375, 1220.7031,\n",
      "        1230.4688, 1240.2344, 1250.0000, 1259.7656, 1269.5312, 1279.2969,\n",
      "        1289.0625, 1298.8281, 1308.5938, 1318.3594, 1328.1250, 1337.8906,\n",
      "        1347.6562, 1357.4219, 1367.1875, 1376.9531, 1386.7188, 1396.4844,\n",
      "        1406.2500, 1416.0156, 1425.7812, 1435.5469, 1445.3125, 1455.0781,\n",
      "        1464.8438, 1474.6094, 1484.3750, 1494.1406, 1503.9062, 1513.6719,\n",
      "        1523.4375, 1533.2031, 1542.9688, 1552.7344, 1562.5000, 1572.2656,\n",
      "        1582.0312, 1591.7969, 1601.5625, 1611.3281, 1621.0938, 1630.8594,\n",
      "        1640.6250, 1650.3906, 1660.1562, 1669.9219, 1679.6875, 1689.4531,\n",
      "        1699.2188, 1708.9844, 1718.7500, 1728.5156, 1738.2812, 1748.0469,\n",
      "        1757.8125, 1767.5781, 1777.3438, 1787.1094, 1796.8750, 1806.6406,\n",
      "        1816.4062, 1826.1719, 1835.9375, 1845.7031, 1855.4688, 1865.2344,\n",
      "        1875.0000, 1884.7656, 1894.5312, 1904.2969, 1914.0625, 1923.8281,\n",
      "        1933.5938, 1943.3594, 1953.1250, 1962.8906, 1972.6562, 1982.4219,\n",
      "        1992.1875, 2001.9531, 2011.7188, 2021.4844, 2031.2500, 2041.0156,\n",
      "        2050.7812, 2060.5469, 2070.3125, 2080.0781, 2089.8438, 2099.6094,\n",
      "        2109.3750, 2119.1406, 2128.9062, 2138.6719, 2148.4375, 2158.2031,\n",
      "        2167.9688, 2177.7344, 2187.5000, 2197.2656, 2207.0312, 2216.7969,\n",
      "        2226.5625, 2236.3281, 2246.0938, 2255.8594, 2265.6250, 2275.3906,\n",
      "        2285.1562, 2294.9219, 2304.6875, 2314.4531, 2324.2188, 2333.9844,\n",
      "        2343.7500, 2353.5156, 2363.2812, 2373.0469, 2382.8125, 2392.5781,\n",
      "        2402.3438, 2412.1094, 2421.8750, 2431.6406, 2441.4062, 2451.1719,\n",
      "        2460.9375, 2470.7031, 2480.4688, 2490.2344, 2500.0000])\n"
     ]
    }
   ],
   "source": [
    "print(multifeature.shape)\n",
    "print(torch.fft.rfft(multifeature,axis=0).shape)\n",
    "print(torch.fft.rfftfreq(multifeature.shape[0],1/fs))"
   ],
   "metadata": {
    "collapsed": false,
    "ExecuteTime": {
     "end_time": "2024-01-20T18:55:45.314826900Z",
     "start_time": "2024-01-20T18:55:45.219438800Z"
    }
   },
   "id": "86dd6609fbe8f51d"
  },
  {
   "cell_type": "code",
   "outputs": [],
   "source": [
    "class Dataset:\n",
    "\tdef __init__(self, data, name, fs):\n",
    "\t\tself.name = name\n",
    "\t\tself.fft = None\n",
    "\t\tself.raw_fft = None\n",
    "\t\tself.fftfreq = None\n",
    "\t\tself.raw_fftfreq = None\n",
    "\t\tself.stft = None\n",
    "\t\tself.fs = fs\n",
    "\t\tself.data = self._parse_data(data)\n",
    "\n",
    "\tdef __str__(self):\n",
    "\t\tif self.name == 'sine':\n",
    "\t\t\treturn r'$f(t)=$' + '+'.join([rf'$sin(2\\pi\\cdot{f}t)$' for f in frequencies])\n",
    "\t\telse:\n",
    "\t\t\treturn self.name\n",
    "\n",
    "\tdef _parse_data(self, data, window=False):\n",
    "\t\t\"\"\"\n",
    "        the number of fft bins is nyquist = fs/2 = 2500. this means that len(data) points are spread across 2500 bins.\n",
    "        we want to have at least 2500 points, so we pad the data with zeros to reach that number.\n",
    "        but through experiments i can tell that this is still nout enough, so i double that number in the power of two.\n",
    "        \"\"\"\n",
    "\t\t# return data\n",
    "\t\t# data = torch.from_numpy(signal.savgol_filter(\n",
    "\t\t#     x=data,\n",
    "\t\t#     window_length=5,\n",
    "\t\t#     polyorder=3\n",
    "\t\t# ))\n",
    "\t\t# if window:\n",
    "\t\t#     data *= torch.hann_window(len(data))\n",
    "\t\t# pad_size = self.fs // 2 - len(data)\n",
    "\t\t# pad_size = 2 ** (int(np.ceil(np.log2(pad_size))) + 1)  # round pad_size to the nearest power of two for fast FFT\n",
    "\t\t# data = F.pad(data, (0, pad_size), value=0)\n",
    "\t\treturn data\n",
    "\n",
    "\tdef calc_fft(self, shapes=True, freq_threshold: Optional[float] = None):\n",
    "\t\tif freq_threshold is None:\n",
    "\t\t\tfreq_threshold = self.fs / 2  # Nyquist, which is the default x axis value anyway\n",
    "\t\tfft = torch.fft.rfft(self.data)\n",
    "\t\tfreqs = torch.fft.rfftfreq(len(self.data), 1 / self.fs)\n",
    "\t\tfft = fft[freqs <= freq_threshold]\n",
    "\t\tfreqs = freqs[freqs <= freq_threshold]\n",
    "\t\tprint(fft.shape)\n",
    "\t\tprint(freqs.shape)\n",
    "\t\tself.fft = {'fft': fft, 'magnitude': fft.abs(), 'angle': fft.angle(), 'freqs': freqs}\n",
    "\t\tif shapes:\n",
    "\t\t\tprint('FFT shape:', self.fft['fft'].shape)\n",
    "\t\t\tprint('Frequencies:', f\"[{freqs[0]}, {freqs[1]}, {freqs[2]}, ..., {freqs[-2]}, {freqs[-1]}]\")\n",
    "\n",
    "\tdef calc_stft(self, n_fft=200, hop_length=None, win_length=None, pad_mode='reflect', apply_abs=True, shapes=True):\n",
    "\t\tif win_length is None:\n",
    "\t\t\twin_length = n_fft\n",
    "\t\tif hop_length is None:\n",
    "\t\t\thop_length = n_fft // 4\n",
    "\t\tstft = torch.stft(\n",
    "\t\t\tinput=self.data,\n",
    "\t\t\tn_fft=n_fft,\n",
    "\t\t\thop_length=hop_length,  #default n_fft/4\n",
    "\t\t\twin_length=win_length,  #default n_fft\n",
    "\t\t\twindow=torch.hann_window(win_length),  # hann is a cosine window with ends that touch zero\n",
    "\t\t\tcenter=False,\n",
    "\t\t\tpad_mode=pad_mode,\n",
    "\t\t\tnormalized=False,  # not normalized\n",
    "\t\t\tonesided=True,  # only return the positive frequencies\n",
    "\t\t\treturn_complex=True  # return complex numbers\n",
    "\t\t)\n",
    "\t\tif apply_abs:\n",
    "\t\t\tstft = torch.abs(stft)\n",
    "\t\tself.stft = stft\n",
    "\t\tif shapes:\n",
    "\t\t\tprint(\"Spectrogram shape is (B?, N, T, C?), where:\")\n",
    "\t\t\tprint(f' - B --> None')\n",
    "\t\t\tprint(f' - N --> (n_fft//2)+1=({n_fft}//2)+1={(n_fft // 2) + 1}')\n",
    "\t\t\tprint(\n",
    "\t\t\t\tf\" - T --> 1+(L-n_fft)//hop_length=1+({len(self.data)}-{n_fft})//{hop_length}={1 + (len(self.data) - n_fft) // hop_length}\")\n",
    "\t\t\tprint(f\" - C --> None\")\n",
    "\t\t\tprint(f'STFT shape: {stft.shape}')\n",
    "\n"
   ],
   "metadata": {
    "collapsed": false,
    "ExecuteTime": {
     "end_time": "2024-01-20T18:55:45.330723600Z",
     "start_time": "2024-01-20T18:55:45.314826900Z"
    }
   },
   "id": "92a0e9c21c3e6cc5",
   "execution_count": 145
  },
  {
   "cell_type": "code",
   "outputs": [
    {
     "name": "stdout",
     "output_type": "stream",
     "text": [
      "torch.Size([21])\n",
      "torch.Size([21])\n",
      "FFT shape: torch.Size([21])\n",
      "Frequencies: [0.0, 9.765625, 19.53125, ..., 185.546875, 195.3125]\n",
      "Spectrogram shape is (B?, N, T, C?), where:\n",
      " - B --> None\n",
      " - N --> (n_fft//2)+1=(128//2)+1=65\n",
      " - T --> 1+(L-n_fft)//hop_length=1+(512-128)//4=97\n",
      " - C --> None\n",
      "STFT shape: torch.Size([65, 97])\n"
     ]
    }
   ],
   "source": [
    "dataset = Dataset(sine_wave, 'sine', fs=fs)\n",
    "dataset.calc_fft(freq_threshold=200)\n",
    "n_fft = int(0.25 * len(dataset.data))\n",
    "hop_length = n_fft // 32\n",
    "window_len = n_fft // 16\n",
    "dataset.calc_stft(n_fft=n_fft, hop_length=hop_length)"
   ],
   "metadata": {
    "collapsed": false,
    "ExecuteTime": {
     "end_time": "2024-01-20T18:55:45.442295900Z",
     "start_time": "2024-01-20T18:55:45.330723600Z"
    }
   },
   "id": "f7eafcd9c2643e13",
   "execution_count": 146
  },
  {
   "cell_type": "code",
   "execution_count": 147,
   "outputs": [],
   "source": [
    "import matplotlib\n",
    "\n",
    "# matplotlib.use('TkAgg')\n",
    "plt.figure(figsize=(12, 10))\n",
    "\n",
    "# Subplot 1: Input signal\n",
    "plt.subplot(3, 1, 1)\n",
    "plt.scatter(torch.arange(len(dataset.data)), dataset.data, s=5, label='filtered data')\n",
    "plt.title(r'$f(t)$' + ' ,shape: ' + str(dataset.data.shape)), plt.xlabel('# Sample'), plt.ylabel('Amplitude')\n",
    "plt.grid(), plt.legend()\n",
    "\n",
    "# Subplot 2: FFT\n",
    "plt.subplot(3, 1, 2)\n",
    "plt.scatter(dataset.fft['freqs'], dataset.fft['magnitude'], s=10, label='FFT[filtered data]')\n",
    "plt.title(r'$|FFT[f(t)]|^+$' + ' ,shape: ' + str(dataset.fft['fft'].shape)), plt.xlabel('Frequency (Hz)'), plt.ylabel(\n",
    "\t'Magnitude'), plt.grid()\n",
    "\n",
    "plt.subplot(3, 1, 3)\n",
    "complex_fft = dataset.fft['fft'].numpy()\n",
    "\n",
    "# Plot complex FFT values as lines\n",
    "plt.scatter(dataset.fft['fft'].real, dataset.fft['fft'].imag)\n",
    "plt.title('Complex FFT Plot' + ' ,shape: ' + str(complex_fft.shape)), plt.xlabel('Real Part'), plt.ylabel(\n",
    "\t'Imaginary Part')\n",
    "plt.grid()\n",
    "\n",
    "# # Subplot 3: Spectrogram\n",
    "# plt.subplot(3, 1, 3)\n",
    "# stft_np = dataset.stft.numpy()\n",
    "# plt.imshow(stft_np, aspect='auto', cmap='viridis', origin='lower', extent=[0, stft_np.shape[1], 0, fs / 2])\n",
    "# plt.colorbar(label='Magnitude')\n",
    "# plt.title('Spectrogram' + ' ,shape: ' + str(dataset.stft.shape)), plt.xlabel('Time (s)'), plt.ylabel('Frequency (Hz)')\n",
    "# # plt.ylim(0, max(top_k_freqs) + 100)\n",
    "# # plt.ylim(0,30)\n",
    "plt.tight_layout()\n",
    "plt.show()\n",
    "\n"
   ],
   "metadata": {
    "collapsed": false,
    "ExecuteTime": {
     "end_time": "2024-01-20T18:55:50.478662600Z",
     "start_time": "2024-01-20T18:55:45.406492200Z"
    }
   },
   "id": "5b7566239265692e"
  },
  {
   "cell_type": "markdown",
   "source": [
    "## Test FFT with low pass filter + padding to IFFT"
   ],
   "metadata": {
    "collapsed": false
   },
   "id": "4f8dbea79fc33e68"
  },
  {
   "cell_type": "code",
   "execution_count": 148,
   "outputs": [
    {
     "name": "stdout",
     "output_type": "stream",
     "text": [
      "Original shape:  torch.Size([512, 3])\n",
      "Regular FFT shape:  torch.Size([257, 3])\n",
      "Regular IFFT shape:  torch.Size([512, 3])\n",
      "==================================================\n",
      "Filtered FFT shape:  torch.Size([10, 3])\n",
      "Zero Padded Filtered FFT shape:  torch.Size([257, 3])\n",
      "IFFT shape:  torch.Size([512, 3])\n"
     ]
    }
   ],
   "source": [
    "print('Original shape: ', multifeature.shape)\n",
    "regular_fft = torch.fft.rfft(multifeature,dim=0)\n",
    "print('Regular FFT shape: ', regular_fft.shape)\n",
    "regular_ifft = torch.fft.irfft(regular_fft,dim=0)\n",
    "print('Regular IFFT shape: ', regular_ifft.shape)\n",
    "print('='*50)\n",
    "filtered_fft = regular_fft[:10,:] # 50 is the number of frequencies we want to keep\n",
    "print('Filtered FFT shape: ', filtered_fft.shape)\n",
    "padded_filtered_fft = torch.nn.functional.pad(filtered_fft, (0,0,0,(len(multifeature)//2 + 1)-len(filtered_fft)))\n",
    "print('Zero Padded Filtered FFT shape: ', padded_filtered_fft.shape)\n",
    "padded_filtered_ifft = torch.fft.irfft(padded_filtered_fft,dim=0)\n",
    "print('IFFT shape: ', padded_filtered_ifft.shape) "
   ],
   "metadata": {
    "collapsed": false,
    "ExecuteTime": {
     "end_time": "2024-01-20T18:55:50.501961800Z",
     "start_time": "2024-01-20T18:55:50.470650900Z"
    }
   },
   "id": "cf2a7c8cfec0e63f"
  },
  {
   "cell_type": "code",
   "execution_count": 149,
   "outputs": [],
   "source": [
    "# two plots, one for the regular ifft and one for the ifft on the padded data:\n",
    "plt.figure(figsize=(12, 10))\n",
    "plt.plot(multifeature[:,0].numpy(),label='original (feature 0)',color='red')\n",
    "# plt.plot(multifeature[:,1].numpy(),label='original (feature 1)',color='green')\n",
    "# plt.plot(multifeature[:,2].numpy(),label='original (feature 2)',color='blue')\n",
    "# lighter colors:\n",
    "\n",
    "plt.plot(regular_ifft[:,0].numpy(),label='regular ifft (feature 0)',color='red', linestyle='--',alpha=0.5)\n",
    "# plt.plot(regular_ifft[:,1].numpy(),label='regular ifft (feature 1)',color='green', linestyle='--',alpha=0.5)\n",
    "# plt.plot(regular_ifft[:,2].numpy(),label='regular ifft (feature 2)',color='blue', linestyle='--',alpha=0.5)\n",
    "\t\n",
    "plt.plot(padded_filtered_ifft[:,0].numpy(),label='padded ifft (feature 0)', linestyle=':',color='red',alpha=0.2)\n",
    "# plt.plot(padded_filtered_ifft[:,1].numpy(),label='padded ifft (feature 1)', linestyle=':',color='green',alpha=0.2)\n",
    "# plt.plot(padded_filtered_ifft[:,2].numpy(),label='padded ifft (feature 2)',\tlinestyle=':',color='blue',alpha=0.2)\n",
    "plt.legend()\n",
    "plt.show()\n"
   ],
   "metadata": {
    "collapsed": false,
    "ExecuteTime": {
     "end_time": "2024-01-20T18:55:54.971646900Z",
     "start_time": "2024-01-20T18:55:50.486334400Z"
    }
   },
   "id": "86144b1b802b5da"
  }
 ],
 "metadata": {
  "kernelspec": {
   "display_name": "Python 3",
   "language": "python",
   "name": "python3"
  },
  "language_info": {
   "codemirror_mode": {
    "name": "ipython",
    "version": 2
   },
   "file_extension": ".py",
   "mimetype": "text/x-python",
   "name": "python",
   "nbconvert_exporter": "python",
   "pygments_lexer": "ipython2",
   "version": "2.7.6"
  }
 },
 "nbformat": 4,
 "nbformat_minor": 5
}
